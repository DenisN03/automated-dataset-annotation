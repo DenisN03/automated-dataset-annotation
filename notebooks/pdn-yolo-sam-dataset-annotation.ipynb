{
 "cells": [
  {
   "cell_type": "code",
   "execution_count": 1,
   "id": "8d0caedc",
   "metadata": {},
   "outputs": [],
   "source": [
    "import os\n",
    "import sys\n",
    "\n",
    "import cv2\n",
    "import torch\n",
    "import shutil\n",
    "import supervision as sv\n",
    "\n",
    "sys.path.append('/app/')\n",
    "from src.worker import process_sam"
   ]
  },
  {
   "cell_type": "code",
   "execution_count": 8,
   "id": "944b6943",
   "metadata": {},
   "outputs": [],
   "source": [
    "# Директория с изображениями для разметки\n",
    "SOURCE_IMAGE_PATH = '/app/data/cars_yolo_s/'\n",
    "\n",
    "# Директория для сохранения набора данных\n",
    "SOURCE_DIRECTORY_PATH = '/app/data/dataset_cars_yolo_s/'\n",
    "\n",
    "SAM_ENCODER_VERSION = \"vit_h\"\n",
    "\n",
    "data_yaml_path = '/app/data/cars_yolo_s/dataset.yaml'\n",
    "subsets = ['train', 'val', 'test'] # 'train', 'val', 'test'\n",
    "classes = ['car', 'lp']\n",
    "\n",
    "# Веса модели\n",
    "SAM_WEIGHTS_PATH = \"/root/weights/sam_vit_h_4b8939.pth\""
   ]
  },
  {
   "cell_type": "code",
   "execution_count": 9,
   "id": "516dc44e",
   "metadata": {},
   "outputs": [],
   "source": [
    "if not os.path.isfile(SAM_WEIGHTS_PATH):\n",
    "    print(\"Файл с весами модели отсутствует.\")"
   ]
  },
  {
   "cell_type": "code",
   "execution_count": 10,
   "id": "bba5deab",
   "metadata": {},
   "outputs": [],
   "source": [
    "DEVICE = torch.device('cuda' if torch.cuda.is_available() else 'cpu')"
   ]
  },
  {
   "cell_type": "code",
   "execution_count": 11,
   "id": "7222df49",
   "metadata": {},
   "outputs": [],
   "source": [
    "from segment_anything import sam_model_registry, SamPredictor\n",
    "\n",
    "sam = sam_model_registry[SAM_ENCODER_VERSION](checkpoint=SAM_WEIGHTS_PATH).to(device=DEVICE)\n",
    "sam_predictor = SamPredictor(sam)"
   ]
  },
  {
   "cell_type": "code",
   "execution_count": 13,
   "id": "690d4b10",
   "metadata": {},
   "outputs": [
    {
     "name": "stderr",
     "output_type": "stream",
     "text": [
      "100%|██████████| 50/50 [01:13<00:00,  1.47s/it]\n",
      "100%|██████████| 170/170 [04:19<00:00,  1.53s/it]\n"
     ]
    }
   ],
   "source": [
    "annotations = {}\n",
    "for subset in subsets:\n",
    "    dataset = sv.DetectionDataset.from_yolo(\n",
    "        images_directory_path=f'{SOURCE_IMAGE_PATH}images/{subset}',\n",
    "        annotations_directory_path=f'{SOURCE_IMAGE_PATH}labels/{subset}',\n",
    "        data_yaml_path=data_yaml_path\n",
    "    )\n",
    "    dataset.classes = classes\n",
    "    dataset.annotations = {f'{SOURCE_IMAGE_PATH}images/{subset}/' + item[0]:item[1] for item in dataset.annotations.items()}\n",
    "    annotations.update(process_sam(dataset.annotations, sam_predictor, subset, False, SOURCE_DIRECTORY_PATH))"
   ]
  },
  {
   "cell_type": "code",
   "execution_count": null,
   "id": "997ae1fe",
   "metadata": {},
   "outputs": [],
   "source": []
  }
 ],
 "metadata": {
  "kernelspec": {
   "display_name": "Python 3 (ipykernel)",
   "language": "python",
   "name": "python3"
  },
  "language_info": {
   "codemirror_mode": {
    "name": "ipython",
    "version": 3
   },
   "file_extension": ".py",
   "mimetype": "text/x-python",
   "name": "python",
   "nbconvert_exporter": "python",
   "pygments_lexer": "ipython3",
   "version": "3.8.12"
  }
 },
 "nbformat": 4,
 "nbformat_minor": 5
}
